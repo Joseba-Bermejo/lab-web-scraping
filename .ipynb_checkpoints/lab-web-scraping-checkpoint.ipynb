{
 "cells": [
  {
   "cell_type": "markdown",
   "id": "7e7a1ab8-2599-417d-9a65-25ef07f3a786",
   "metadata": {
    "id": "7e7a1ab8-2599-417d-9a65-25ef07f3a786"
   },
   "source": [
    "# Lab | Web Scraping"
   ]
  },
  {
   "cell_type": "markdown",
   "id": "ce8882fc-4815-4567-92fa-b4816358ba7d",
   "metadata": {
    "id": "ce8882fc-4815-4567-92fa-b4816358ba7d"
   },
   "source": [
    "Welcome to the \"Books to Scrape\" Web Scraping Adventure Lab!\n",
    "\n",
    "**Objective**\n",
    "\n",
    "In this lab, we will embark on a mission to unearth valuable insights from the data available on Books to Scrape, an online platform showcasing a wide variety of books. As data analyst, you have been tasked with scraping a specific subset of book data from Books to Scrape to assist publishing companies in understanding the landscape of highly-rated books across different genres. Your insights will help shape future book marketing strategies and publishing decisions.\n",
    "\n",
    "**Background**\n",
    "\n",
    "In a world where data has become the new currency, businesses are leveraging big data to make informed decisions that drive success and profitability. The publishing industry, much like others, utilizes data analytics to understand market trends, reader preferences, and the performance of books based on factors such as genre, author, and ratings. Books to Scrape serves as a rich source of such data, offering detailed information about a diverse range of books, making it an ideal platform for extracting insights to aid in informed decision-making within the literary world.\n",
    "\n",
    "**Task**\n",
    "\n",
    "Your task is to create a Python script using BeautifulSoup and pandas to scrape Books to Scrape book data, focusing on book ratings and genres. The script should be able to filter books with ratings above a certain threshold and in specific genres. Additionally, the script should structure the scraped data in a tabular format using pandas for further analysis.\n",
    "\n",
    "**Expected Outcome**\n",
    "\n",
    "A function named `scrape_books` that takes two parameters: `min_rating` and `max_price`. The function should scrape book data from the \"Books to Scrape\" website and return a `pandas` DataFrame with the following columns:\n",
    "\n",
    "**Expected Outcome**\n",
    "\n",
    "- A function named `scrape_books` that takes two parameters: `min_rating` and `max_price`.\n",
    "- The function should return a DataFrame with the following columns:\n",
    "  - **UPC**: The Universal Product Code (UPC) of the book.\n",
    "  - **Title**: The title of the book.\n",
    "  - **Price (£)**: The price of the book in pounds.\n",
    "  - **Rating**: The rating of the book (1-5 stars).\n",
    "  - **Genre**: The genre of the book.\n",
    "  - **Availability**: Whether the book is in stock or not.\n",
    "  - **Description**: A brief description or product description of the book (if available).\n",
    "  \n",
    "You will execute this script to scrape data for books with a minimum rating of `4.0 and above` and a maximum price of `£20`. \n",
    "\n",
    "Remember to experiment with different ratings and prices to ensure your code is versatile and can handle various searches effectively!\n",
    "\n",
    "**Resources**\n",
    "\n",
    "- [Beautiful Soup Documentation](https://www.crummy.com/software/BeautifulSoup/bs4/doc/)\n",
    "- [Pandas Documentation](https://pandas.pydata.org/pandas-docs/stable/index.html)\n",
    "- [Books to Scrape](https://books.toscrape.com/)\n"
   ]
  },
  {
   "cell_type": "markdown",
   "id": "3519921d-5890-445b-9a33-934ed8ee378c",
   "metadata": {
    "id": "3519921d-5890-445b-9a33-934ed8ee378c"
   },
   "source": [
    "**Hint**\n",
    "\n",
    "Your first mission is to familiarize yourself with the **Books to Scrape** website. Navigate to [Books to Scrape](http://books.toscrape.com/) and explore the available books to understand their layout and structure. \n",
    "\n",
    "Next, think about how you can set parameters for your data extraction:\n",
    "\n",
    "- **Minimum Rating**: Focus on books with a rating of 4.0 and above.\n",
    "- **Maximum Price**: Filter for books priced up to £20.\n",
    "\n",
    "After reviewing the site, you can construct a plan for scraping relevant data. Pay attention to the details displayed for each book, including the title, price, rating, and availability. This will help you identify the correct HTML elements to target with your scraping script.\n",
    "\n",
    "Make sure to build your scraping URL and logic based on the patterns you observe in the HTML structure of the book listings!"
   ]
  },
  {
   "cell_type": "markdown",
   "id": "25a83a0d-a742-49f6-985e-e27887cbf922",
   "metadata": {
    "id": "25a83a0d-a742-49f6-985e-e27887cbf922"
   },
   "source": [
    "\n",
    "---\n",
    "\n",
    "**Best of luck! Immerse yourself in the world of books, and may the data be with you!**"
   ]
  },
  {
   "cell_type": "markdown",
   "id": "7b75cf0d-9afa-4eec-a9e2-befeac68b2a0",
   "metadata": {
    "id": "7b75cf0d-9afa-4eec-a9e2-befeac68b2a0"
   },
   "source": [
    "**Important Note**:\n",
    "\n",
    "In the fast-changing online world, websites often update and change their structures. When you try this lab, the **Books to Scrape** website might differ from what you expect.\n",
    "\n",
    "If you encounter issues due to these changes, like new rules or obstacles preventing data extraction, don’t worry! Get creative.\n",
    "\n",
    "You can choose another website that interests you and is suitable for scraping data. Options like Wikipedia, The New York Times, or even library databases are great alternatives. The main goal remains the same: extract useful data and enhance your web scraping skills while exploring a source of information you enjoy. This is your opportunity to practice and adapt to different web environments!"
   ]
  },
  {
   "cell_type": "code",
   "execution_count": null,
   "id": "d190faae-70ae-4b4b-8d3d-95b0d2752f91",
   "metadata": {},
   "outputs": [],
   "source": []
  },
  {
   "cell_type": "code",
   "execution_count": null,
   "id": "e1d3a918-7e65-450a-baf2-e46b13d8bfa0",
   "metadata": {},
   "outputs": [],
   "source": []
  },
  {
   "cell_type": "code",
   "execution_count": null,
   "id": "df3fa6eb-23c9-4480-8863-22cfb7507e22",
   "metadata": {},
   "outputs": [],
   "source": []
  },
  {
   "cell_type": "markdown",
   "id": "24876303-9116-4cf2-930a-e0acfa9ef0f6",
   "metadata": {
    "id": "40359eee-9cd7-4884-bfa4-83344c222305"
   },
   "source": [
    "### Task: A function named scrape_books that takes two parameters: min_rating and max_price. \n",
    "The function should scrape book data from the \"Books to Scrape\" website and return a pandas DataFrame with the following columns:\n",
    "\n",
    "A function named scrape_books that takes two parameters: min_rating and max_price. The function should return a DataFrame with the following columns:\n",
    "* UPC: The Universal Product Code (UPC) of the book.\n",
    "* Title: The title of the book.\n",
    "* Price (£): The price of the book in pounds.\n",
    "* Rating: The rating of the book (1-5 stars).\n",
    "* Genre: The genre of the book.\n",
    "* Availability: Whether the book is in stock or not.\n",
    "* Description: A brief description or product description of the book (if available).\n",
    "\n",
    "You will execute this script to scrape data for books with a minimum rating of 4.0 and above and a maximum price of £20."
   ]
  },
  {
   "cell_type": "code",
   "execution_count": 5,
   "id": "12faece9-1f02-45c9-9191-1d6871591dcf",
   "metadata": {},
   "outputs": [],
   "source": [
    "url1 = \"https://books.toscrape.com/\""
   ]
  },
  {
   "cell_type": "code",
   "execution_count": 7,
   "id": "33ea7664-e695-42cf-8b56-c8c910d6dce2",
   "metadata": {},
   "outputs": [],
   "source": [
    "import requests"
   ]
  },
  {
   "cell_type": "code",
   "execution_count": 11,
   "id": "7d690518-1e6a-4d17-812a-60f5923c1886",
   "metadata": {},
   "outputs": [],
   "source": [
    "response = requests.get(url1)"
   ]
  },
  {
   "cell_type": "code",
   "execution_count": 13,
   "id": "7c14d2ec-2043-40fc-9fa4-741c522831a3",
   "metadata": {},
   "outputs": [
    {
     "data": {
      "text/plain": [
       "200"
      ]
     },
     "execution_count": 13,
     "metadata": {},
     "output_type": "execute_result"
    }
   ],
   "source": [
    "response.status_code"
   ]
  },
  {
   "cell_type": "code",
   "execution_count": 15,
   "id": "f24b7553-4ea5-4507-94fe-a71b7ddccb8a",
   "metadata": {},
   "outputs": [],
   "source": [
    "from bs4 import BeautifulSoup"
   ]
  },
  {
   "cell_type": "code",
   "execution_count": 17,
   "id": "43b0d6f9-b99c-4da2-bbf4-ee3cad5143db",
   "metadata": {},
   "outputs": [],
   "source": [
    "soup = BeautifulSoup(response.content)"
   ]
  },
  {
   "cell_type": "code",
   "execution_count": null,
   "id": "32b23d1b-670b-46b5-994a-c649841df5ee",
   "metadata": {},
   "outputs": [],
   "source": [
    "print(soup.prettify())"
   ]
  },
  {
   "cell_type": "markdown",
   "id": "f0bccb5d-59e7-47cc-82b1-f7348fb03fbd",
   "metadata": {},
   "source": [
    "#### Title"
   ]
  },
  {
   "cell_type": "code",
   "execution_count": 73,
   "id": "f1b70d4b-1c12-4e8f-abab-8c0173e79fa5",
   "metadata": {},
   "outputs": [
    {
     "data": {
      "text/plain": [
       "['A Light in the Attic',\n",
       " 'Tipping the Velvet',\n",
       " 'Soumission',\n",
       " 'Sharp Objects',\n",
       " 'Sapiens: A Brief History of Humankind',\n",
       " 'The Requiem Red',\n",
       " 'The Dirty Little Secrets of Getting Your Dream Job',\n",
       " 'The Coming Woman: A Novel Based on the Life of the Infamous Feminist, Victoria Woodhull',\n",
       " 'The Boys in the Boat: Nine Americans and Their Epic Quest for Gold at the 1936 Berlin Olympics',\n",
       " 'The Black Maria',\n",
       " 'Starving Hearts (Triangular Trade Trilogy, #1)',\n",
       " \"Shakespeare's Sonnets\",\n",
       " 'Set Me Free',\n",
       " \"Scott Pilgrim's Precious Little Life (Scott Pilgrim #1)\",\n",
       " 'Rip it Up and Start Again',\n",
       " 'Our Band Could Be Your Life: Scenes from the American Indie Underground, 1981-1991',\n",
       " 'Olio',\n",
       " 'Mesaerion: The Best Science Fiction Stories 1800-1849',\n",
       " 'Libertarianism for Beginners',\n",
       " \"It's Only the Himalayas\"]"
      ]
     },
     "execution_count": 73,
     "metadata": {},
     "output_type": "execute_result"
    }
   ],
   "source": [
    "# title\n",
    "\n",
    "titles = soup.find_all(\"a\", title = True)\n",
    "titles = [title.get(\"title\") for title in titles]\n",
    "titles\n",
    "\n",
    "# Here what I do first is to find within all the rows with the tag \"a\", filter the ones that have the atribute title.\n",
    "# After that, I use \"get\" function to get the text within the attribute \"title\" in a loop, becuse I want them for all the books.\n",
    "# Finally this is in brackets because I want them as part of my lis"
   ]
  },
  {
   "cell_type": "code",
   "execution_count": 65,
   "id": "1abdf91e-df26-4059-8e40-e68609f3888e",
   "metadata": {},
   "outputs": [
    {
     "data": {
      "text/plain": [
       "20"
      ]
     },
     "execution_count": 65,
     "metadata": {},
     "output_type": "execute_result"
    }
   ],
   "source": [
    "len(titles)"
   ]
  },
  {
   "cell_type": "code",
   "execution_count": 241,
   "id": "76df4542-8ab3-4013-8537-3a0331abc6ab",
   "metadata": {},
   "outputs": [
    {
     "data": {
      "text/plain": [
       "['a light in the attic',\n",
       " 'tipping the velvet',\n",
       " 'soumission',\n",
       " 'sharp objects',\n",
       " 'sapiens: a brief history of humankind',\n",
       " 'the requiem red',\n",
       " 'the dirty little secrets of getting your dream job',\n",
       " 'the coming woman: a novel based on the life of the infamous feminist, victoria woodhull',\n",
       " 'the boys in the boat: nine americans and their epic quest for gold at the 1936 berlin olympics',\n",
       " 'the black maria',\n",
       " 'starving hearts (triangular trade trilogy, #1)',\n",
       " \"shakespeare's sonnets\",\n",
       " 'set me free',\n",
       " \"scott pilgrim's precious little life (scott pilgrim #1)\",\n",
       " 'rip it up and start again',\n",
       " 'our band could be your life: scenes from the american indie underground, 1981-1991',\n",
       " 'olio',\n",
       " 'mesaerion: the best science fiction stories 1800-1849',\n",
       " 'libertarianism for beginners',\n",
       " \"it's only the himalayas\"]"
      ]
     },
     "execution_count": 241,
     "metadata": {},
     "output_type": "execute_result"
    }
   ],
   "source": [
    "tit_lower = [title.lower() for title in titles] # If I want to add more than one element in list in lowercase, I need to use a loop.\n",
    "tit_lower"
   ]
  },
  {
   "cell_type": "code",
   "execution_count": 299,
   "id": "26d40eba-ba55-4c4c-b584-39c7f3f993e2",
   "metadata": {},
   "outputs": [
    {
     "data": {
      "text/plain": [
       "['a-light-in-the-attic',\n",
       " 'tipping-the-velvet',\n",
       " 'soumission',\n",
       " 'sharp-objects',\n",
       " 'sapiens-a-brief-history-of-humankind',\n",
       " 'the-requiem-red',\n",
       " 'the-dirty-little-secrets-of-getting-your-dream-job',\n",
       " 'the-coming-woman-a-novel-based-on-the-life-of-the-infamous-feminist-victoria-woodhull',\n",
       " 'the-boys-in-the-boat-nine-americans-and-their-epic-quest-for-gold-at-the-1936-berlin-olympics',\n",
       " 'the-black-maria',\n",
       " 'starving-hearts-triangular-trade-trilogy-1',\n",
       " 'shakespeares-sonnets',\n",
       " 'set-me-free',\n",
       " 'scott-pilgrims-precious-little-life-scott-pilgrim-1',\n",
       " 'rip-it-up-and-start-again',\n",
       " 'our-band-could-be-your-life-scenes-from-the-american-indie-underground-1981-1991',\n",
       " 'olio',\n",
       " 'mesaerion-the-best-science-fiction-stories-1800-1849',\n",
       " 'libertarianism-for-beginners',\n",
       " 'its-only-the-himalayas']"
      ]
     },
     "execution_count": 299,
     "metadata": {},
     "output_type": "execute_result"
    }
   ],
   "source": [
    "clean_titles = [\n",
    "    title.lower().replace(' ', '-').replace(',', '').replace(':', '').replace('#','').replace('(','').replace(')','').replace(\"'\",\"\")\n",
    "    for title in titles\n",
    "]\n",
    "clean_titles"
   ]
  },
  {
   "cell_type": "markdown",
   "id": "68571b67-3008-46ee-ac8e-7a31cb6adabe",
   "metadata": {},
   "source": [
    "#### Rating"
   ]
  },
  {
   "cell_type": "code",
   "execution_count": 115,
   "id": "0119e0f1-c155-4c13-ae38-fc3cb56d8fbd",
   "metadata": {},
   "outputs": [
    {
     "data": {
      "text/plain": [
       "[<p class=\"star-rating Three\">\n",
       " <i class=\"icon-star\"></i>\n",
       " <i class=\"icon-star\"></i>\n",
       " <i class=\"icon-star\"></i>\n",
       " <i class=\"icon-star\"></i>\n",
       " <i class=\"icon-star\"></i>\n",
       " </p>,\n",
       " <p class=\"star-rating One\">\n",
       " <i class=\"icon-star\"></i>\n",
       " <i class=\"icon-star\"></i>\n",
       " <i class=\"icon-star\"></i>\n",
       " <i class=\"icon-star\"></i>\n",
       " <i class=\"icon-star\"></i>\n",
       " </p>,\n",
       " <p class=\"star-rating One\">\n",
       " <i class=\"icon-star\"></i>\n",
       " <i class=\"icon-star\"></i>\n",
       " <i class=\"icon-star\"></i>\n",
       " <i class=\"icon-star\"></i>\n",
       " <i class=\"icon-star\"></i>\n",
       " </p>,\n",
       " <p class=\"star-rating Four\">\n",
       " <i class=\"icon-star\"></i>\n",
       " <i class=\"icon-star\"></i>\n",
       " <i class=\"icon-star\"></i>\n",
       " <i class=\"icon-star\"></i>\n",
       " <i class=\"icon-star\"></i>\n",
       " </p>,\n",
       " <p class=\"star-rating Five\">\n",
       " <i class=\"icon-star\"></i>\n",
       " <i class=\"icon-star\"></i>\n",
       " <i class=\"icon-star\"></i>\n",
       " <i class=\"icon-star\"></i>\n",
       " <i class=\"icon-star\"></i>\n",
       " </p>,\n",
       " <p class=\"star-rating One\">\n",
       " <i class=\"icon-star\"></i>\n",
       " <i class=\"icon-star\"></i>\n",
       " <i class=\"icon-star\"></i>\n",
       " <i class=\"icon-star\"></i>\n",
       " <i class=\"icon-star\"></i>\n",
       " </p>,\n",
       " <p class=\"star-rating Four\">\n",
       " <i class=\"icon-star\"></i>\n",
       " <i class=\"icon-star\"></i>\n",
       " <i class=\"icon-star\"></i>\n",
       " <i class=\"icon-star\"></i>\n",
       " <i class=\"icon-star\"></i>\n",
       " </p>,\n",
       " <p class=\"star-rating Three\">\n",
       " <i class=\"icon-star\"></i>\n",
       " <i class=\"icon-star\"></i>\n",
       " <i class=\"icon-star\"></i>\n",
       " <i class=\"icon-star\"></i>\n",
       " <i class=\"icon-star\"></i>\n",
       " </p>,\n",
       " <p class=\"star-rating Four\">\n",
       " <i class=\"icon-star\"></i>\n",
       " <i class=\"icon-star\"></i>\n",
       " <i class=\"icon-star\"></i>\n",
       " <i class=\"icon-star\"></i>\n",
       " <i class=\"icon-star\"></i>\n",
       " </p>,\n",
       " <p class=\"star-rating One\">\n",
       " <i class=\"icon-star\"></i>\n",
       " <i class=\"icon-star\"></i>\n",
       " <i class=\"icon-star\"></i>\n",
       " <i class=\"icon-star\"></i>\n",
       " <i class=\"icon-star\"></i>\n",
       " </p>,\n",
       " <p class=\"star-rating Two\">\n",
       " <i class=\"icon-star\"></i>\n",
       " <i class=\"icon-star\"></i>\n",
       " <i class=\"icon-star\"></i>\n",
       " <i class=\"icon-star\"></i>\n",
       " <i class=\"icon-star\"></i>\n",
       " </p>,\n",
       " <p class=\"star-rating Four\">\n",
       " <i class=\"icon-star\"></i>\n",
       " <i class=\"icon-star\"></i>\n",
       " <i class=\"icon-star\"></i>\n",
       " <i class=\"icon-star\"></i>\n",
       " <i class=\"icon-star\"></i>\n",
       " </p>,\n",
       " <p class=\"star-rating Five\">\n",
       " <i class=\"icon-star\"></i>\n",
       " <i class=\"icon-star\"></i>\n",
       " <i class=\"icon-star\"></i>\n",
       " <i class=\"icon-star\"></i>\n",
       " <i class=\"icon-star\"></i>\n",
       " </p>,\n",
       " <p class=\"star-rating Five\">\n",
       " <i class=\"icon-star\"></i>\n",
       " <i class=\"icon-star\"></i>\n",
       " <i class=\"icon-star\"></i>\n",
       " <i class=\"icon-star\"></i>\n",
       " <i class=\"icon-star\"></i>\n",
       " </p>,\n",
       " <p class=\"star-rating Five\">\n",
       " <i class=\"icon-star\"></i>\n",
       " <i class=\"icon-star\"></i>\n",
       " <i class=\"icon-star\"></i>\n",
       " <i class=\"icon-star\"></i>\n",
       " <i class=\"icon-star\"></i>\n",
       " </p>,\n",
       " <p class=\"star-rating Three\">\n",
       " <i class=\"icon-star\"></i>\n",
       " <i class=\"icon-star\"></i>\n",
       " <i class=\"icon-star\"></i>\n",
       " <i class=\"icon-star\"></i>\n",
       " <i class=\"icon-star\"></i>\n",
       " </p>,\n",
       " <p class=\"star-rating One\">\n",
       " <i class=\"icon-star\"></i>\n",
       " <i class=\"icon-star\"></i>\n",
       " <i class=\"icon-star\"></i>\n",
       " <i class=\"icon-star\"></i>\n",
       " <i class=\"icon-star\"></i>\n",
       " </p>,\n",
       " <p class=\"star-rating One\">\n",
       " <i class=\"icon-star\"></i>\n",
       " <i class=\"icon-star\"></i>\n",
       " <i class=\"icon-star\"></i>\n",
       " <i class=\"icon-star\"></i>\n",
       " <i class=\"icon-star\"></i>\n",
       " </p>,\n",
       " <p class=\"star-rating Two\">\n",
       " <i class=\"icon-star\"></i>\n",
       " <i class=\"icon-star\"></i>\n",
       " <i class=\"icon-star\"></i>\n",
       " <i class=\"icon-star\"></i>\n",
       " <i class=\"icon-star\"></i>\n",
       " </p>,\n",
       " <p class=\"star-rating Two\">\n",
       " <i class=\"icon-star\"></i>\n",
       " <i class=\"icon-star\"></i>\n",
       " <i class=\"icon-star\"></i>\n",
       " <i class=\"icon-star\"></i>\n",
       " <i class=\"icon-star\"></i>\n",
       " </p>]"
      ]
     },
     "execution_count": 115,
     "metadata": {},
     "output_type": "execute_result"
    }
   ],
   "source": [
    "# rating\n",
    "\n",
    "ratings = soup.find_all(\"p\", class_ = \"star-rating\")\n",
    "ratings"
   ]
  },
  {
   "cell_type": "code",
   "execution_count": 123,
   "id": "f0be567f-3901-4169-9bb7-a7639865ff3b",
   "metadata": {},
   "outputs": [
    {
     "data": {
      "text/plain": [
       "[['star-rating', 'Three'],\n",
       " ['star-rating', 'One'],\n",
       " ['star-rating', 'One'],\n",
       " ['star-rating', 'Four'],\n",
       " ['star-rating', 'Five'],\n",
       " ['star-rating', 'One'],\n",
       " ['star-rating', 'Four'],\n",
       " ['star-rating', 'Three'],\n",
       " ['star-rating', 'Four'],\n",
       " ['star-rating', 'One'],\n",
       " ['star-rating', 'Two'],\n",
       " ['star-rating', 'Four'],\n",
       " ['star-rating', 'Five'],\n",
       " ['star-rating', 'Five'],\n",
       " ['star-rating', 'Five'],\n",
       " ['star-rating', 'Three'],\n",
       " ['star-rating', 'One'],\n",
       " ['star-rating', 'One'],\n",
       " ['star-rating', 'Two'],\n",
       " ['star-rating', 'Two']]"
      ]
     },
     "execution_count": 123,
     "metadata": {},
     "output_type": "execute_result"
    }
   ],
   "source": [
    "ratings_1 = [rating.get(\"class\") for rating in ratings]\n",
    "ratings_1"
   ]
  },
  {
   "cell_type": "code",
   "execution_count": 131,
   "id": "5dac8428-824c-47ca-b3ca-3a53d87361ae",
   "metadata": {},
   "outputs": [
    {
     "data": {
      "text/plain": [
       "['Three',\n",
       " 'One',\n",
       " 'One',\n",
       " 'Four',\n",
       " 'Five',\n",
       " 'One',\n",
       " 'Four',\n",
       " 'Three',\n",
       " 'Four',\n",
       " 'One',\n",
       " 'Two',\n",
       " 'Four',\n",
       " 'Five',\n",
       " 'Five',\n",
       " 'Five',\n",
       " 'Three',\n",
       " 'One',\n",
       " 'One',\n",
       " 'Two',\n",
       " 'Two']"
      ]
     },
     "execution_count": 131,
     "metadata": {},
     "output_type": "execute_result"
    }
   ],
   "source": [
    "star_ratings = [rating[1] for rating in ratings_1]\n",
    "star_ratings"
   ]
  },
  {
   "cell_type": "code",
   "execution_count": 133,
   "id": "5e890f5f-616e-4cab-b1b4-ce76f7ba1412",
   "metadata": {},
   "outputs": [
    {
     "data": {
      "text/plain": [
       "[3, 1, 1, 4, 5, 1, 4, 3, 4, 1, 2, 4, 5, 5, 5, 3, 1, 1, 2, 2]"
      ]
     },
     "execution_count": 133,
     "metadata": {},
     "output_type": "execute_result"
    }
   ],
   "source": [
    "# Word to number mapping, so I can use it later for the exercise\n",
    "word_to_int = {\n",
    "    'One': 1,\n",
    "    'Two': 2,\n",
    "    'Three': 3,\n",
    "    'Four': 4,\n",
    "    'Five': 5\n",
    "}\n",
    "\n",
    "# Convert the list\n",
    "numeric_ratings = [word_to_int[rating] for rating in star_ratings]\n",
    "numeric_ratings"
   ]
  },
  {
   "cell_type": "markdown",
   "id": "11f079b8-3142-4af5-a2dd-65a5b99ab00e",
   "metadata": {},
   "source": [
    "#### Price"
   ]
  },
  {
   "cell_type": "code",
   "execution_count": 152,
   "id": "0cbf4885-919f-4edb-9841-dc21abfa971c",
   "metadata": {},
   "outputs": [
    {
     "data": {
      "text/plain": [
       "[51.77,\n",
       " 53.74,\n",
       " 50.1,\n",
       " 47.82,\n",
       " 54.23,\n",
       " 22.65,\n",
       " 33.34,\n",
       " 17.93,\n",
       " 22.6,\n",
       " 52.15,\n",
       " 13.99,\n",
       " 20.66,\n",
       " 17.46,\n",
       " 52.29,\n",
       " 35.02,\n",
       " 57.25,\n",
       " 23.88,\n",
       " 37.59,\n",
       " 51.33,\n",
       " 45.17]"
      ]
     },
     "execution_count": 152,
     "metadata": {},
     "output_type": "execute_result"
    }
   ],
   "source": [
    "# Get all <p> elements with class \"price_color\"\n",
    "prices = soup.find_all(\"p\", class_=\"price_color\")\n",
    "price_values = [float(price.text.replace('£', '')) for price in prices]\n",
    "price_values"
   ]
  },
  {
   "cell_type": "markdown",
   "id": "bedaf7fc-296f-4e80-beef-0d8c083256c8",
   "metadata": {},
   "source": [
    "#### Availability"
   ]
  },
  {
   "cell_type": "code",
   "execution_count": 157,
   "id": "43603474-bd60-4997-9466-89f5809461e7",
   "metadata": {},
   "outputs": [
    {
     "data": {
      "text/plain": [
       "[<p class=\"instock availability\">\n",
       " <i class=\"icon-ok\"></i>\n",
       "     \n",
       "         In stock\n",
       "     \n",
       " </p>,\n",
       " <p class=\"instock availability\">\n",
       " <i class=\"icon-ok\"></i>\n",
       "     \n",
       "         In stock\n",
       "     \n",
       " </p>,\n",
       " <p class=\"instock availability\">\n",
       " <i class=\"icon-ok\"></i>\n",
       "     \n",
       "         In stock\n",
       "     \n",
       " </p>,\n",
       " <p class=\"instock availability\">\n",
       " <i class=\"icon-ok\"></i>\n",
       "     \n",
       "         In stock\n",
       "     \n",
       " </p>,\n",
       " <p class=\"instock availability\">\n",
       " <i class=\"icon-ok\"></i>\n",
       "     \n",
       "         In stock\n",
       "     \n",
       " </p>,\n",
       " <p class=\"instock availability\">\n",
       " <i class=\"icon-ok\"></i>\n",
       "     \n",
       "         In stock\n",
       "     \n",
       " </p>,\n",
       " <p class=\"instock availability\">\n",
       " <i class=\"icon-ok\"></i>\n",
       "     \n",
       "         In stock\n",
       "     \n",
       " </p>,\n",
       " <p class=\"instock availability\">\n",
       " <i class=\"icon-ok\"></i>\n",
       "     \n",
       "         In stock\n",
       "     \n",
       " </p>,\n",
       " <p class=\"instock availability\">\n",
       " <i class=\"icon-ok\"></i>\n",
       "     \n",
       "         In stock\n",
       "     \n",
       " </p>,\n",
       " <p class=\"instock availability\">\n",
       " <i class=\"icon-ok\"></i>\n",
       "     \n",
       "         In stock\n",
       "     \n",
       " </p>,\n",
       " <p class=\"instock availability\">\n",
       " <i class=\"icon-ok\"></i>\n",
       "     \n",
       "         In stock\n",
       "     \n",
       " </p>,\n",
       " <p class=\"instock availability\">\n",
       " <i class=\"icon-ok\"></i>\n",
       "     \n",
       "         In stock\n",
       "     \n",
       " </p>,\n",
       " <p class=\"instock availability\">\n",
       " <i class=\"icon-ok\"></i>\n",
       "     \n",
       "         In stock\n",
       "     \n",
       " </p>,\n",
       " <p class=\"instock availability\">\n",
       " <i class=\"icon-ok\"></i>\n",
       "     \n",
       "         In stock\n",
       "     \n",
       " </p>,\n",
       " <p class=\"instock availability\">\n",
       " <i class=\"icon-ok\"></i>\n",
       "     \n",
       "         In stock\n",
       "     \n",
       " </p>,\n",
       " <p class=\"instock availability\">\n",
       " <i class=\"icon-ok\"></i>\n",
       "     \n",
       "         In stock\n",
       "     \n",
       " </p>,\n",
       " <p class=\"instock availability\">\n",
       " <i class=\"icon-ok\"></i>\n",
       "     \n",
       "         In stock\n",
       "     \n",
       " </p>,\n",
       " <p class=\"instock availability\">\n",
       " <i class=\"icon-ok\"></i>\n",
       "     \n",
       "         In stock\n",
       "     \n",
       " </p>,\n",
       " <p class=\"instock availability\">\n",
       " <i class=\"icon-ok\"></i>\n",
       "     \n",
       "         In stock\n",
       "     \n",
       " </p>,\n",
       " <p class=\"instock availability\">\n",
       " <i class=\"icon-ok\"></i>\n",
       "     \n",
       "         In stock\n",
       "     \n",
       " </p>]"
      ]
     },
     "execution_count": 157,
     "metadata": {},
     "output_type": "execute_result"
    }
   ],
   "source": [
    "availability = soup.find_all(\"p\", class_=\"instock availability\")\n",
    "availability"
   ]
  },
  {
   "cell_type": "code",
   "execution_count": 167,
   "id": "e8d7d7da-cbc4-4b24-a711-4b003381d96a",
   "metadata": {},
   "outputs": [
    {
     "data": {
      "text/plain": [
       "['In stock',\n",
       " 'In stock',\n",
       " 'In stock',\n",
       " 'In stock',\n",
       " 'In stock',\n",
       " 'In stock',\n",
       " 'In stock',\n",
       " 'In stock',\n",
       " 'In stock',\n",
       " 'In stock',\n",
       " 'In stock',\n",
       " 'In stock',\n",
       " 'In stock',\n",
       " 'In stock',\n",
       " 'In stock',\n",
       " 'In stock',\n",
       " 'In stock',\n",
       " 'In stock',\n",
       " 'In stock',\n",
       " 'In stock']"
      ]
     },
     "execution_count": 167,
     "metadata": {},
     "output_type": "execute_result"
    }
   ],
   "source": [
    "av1 = [av.get_text(strip=True) for av in availability]\n",
    "av1"
   ]
  },
  {
   "cell_type": "code",
   "execution_count": 174,
   "id": "70ee0bbd-33c6-44d2-b080-f581aa880814",
   "metadata": {},
   "outputs": [],
   "source": [
    "# Let's create a function, that gives a dataframe as a result with all the variables described above. \n",
    "\n",
    "import pandas as pd"
   ]
  },
  {
   "cell_type": "code",
   "execution_count": 311,
   "id": "2e42bf3a-b7e1-4c1f-b622-ebca224889d1",
   "metadata": {},
   "outputs": [],
   "source": [
    "def scrape_books(min_rating,max_price):\n",
    "    df = pd.DataFrame({\n",
    "        'Title': titles,\n",
    "        'Price (£)': price_values,\n",
    "        'Rating': numeric_ratings,\n",
    "        'Availability': av1,\n",
    "        'Genre': genre_type,\n",
    "        'Description': desc_list,\n",
    "        'UPC': upc_list\n",
    "    })\n",
    "    \n",
    "    new_df = df[(df['Rating']>= min_rating) & (df['Price (£)']<= max_price)]\n",
    "    \n",
    "    return new_df"
   ]
  },
  {
   "cell_type": "code",
   "execution_count": 321,
   "id": "7673b2c2-bc23-4e1a-a4cb-c207d48ae070",
   "metadata": {},
   "outputs": [
    {
     "data": {
      "text/html": [
       "<div>\n",
       "<style scoped>\n",
       "    .dataframe tbody tr th:only-of-type {\n",
       "        vertical-align: middle;\n",
       "    }\n",
       "\n",
       "    .dataframe tbody tr th {\n",
       "        vertical-align: top;\n",
       "    }\n",
       "\n",
       "    .dataframe thead th {\n",
       "        text-align: right;\n",
       "    }\n",
       "</style>\n",
       "<table border=\"1\" class=\"dataframe\">\n",
       "  <thead>\n",
       "    <tr style=\"text-align: right;\">\n",
       "      <th></th>\n",
       "      <th>Title</th>\n",
       "      <th>Price (£)</th>\n",
       "      <th>Rating</th>\n",
       "      <th>Availability</th>\n",
       "      <th>Genre</th>\n",
       "      <th>Description</th>\n",
       "      <th>UPC</th>\n",
       "    </tr>\n",
       "  </thead>\n",
       "  <tbody>\n",
       "    <tr>\n",
       "      <th>12</th>\n",
       "      <td>Set Me Free</td>\n",
       "      <td>17.46</td>\n",
       "      <td>5</td>\n",
       "      <td>In stock</td>\n",
       "      <td>Travel</td>\n",
       "      <td>Aaron Ledbetter’s future had been planned out ...</td>\n",
       "      <td>ce6396b0f23f6ecc</td>\n",
       "    </tr>\n",
       "  </tbody>\n",
       "</table>\n",
       "</div>"
      ],
      "text/plain": [
       "          Title  Price (£)  Rating Availability   Genre  \\\n",
       "12  Set Me Free      17.46       5     In stock  Travel   \n",
       "\n",
       "                                          Description               UPC  \n",
       "12  Aaron Ledbetter’s future had been planned out ...  ce6396b0f23f6ecc  "
      ]
     },
     "execution_count": 321,
     "metadata": {},
     "output_type": "execute_result"
    }
   ],
   "source": [
    "scrape_books(4,20)"
   ]
  },
  {
   "cell_type": "code",
   "execution_count": null,
   "id": "fa258220-5bfe-4e10-9a18-e3789dd29135",
   "metadata": {},
   "outputs": [],
   "source": []
  },
  {
   "cell_type": "markdown",
   "id": "9cdc3894-83e6-44ae-af9d-bb140e165cd4",
   "metadata": {},
   "source": [
    "#### Second part of the lab: adding the other variables to the function.\n",
    "\n",
    "- UPC\n",
    "- Description\n",
    "- Genre"
   ]
  },
  {
   "cell_type": "code",
   "execution_count": null,
   "id": "1a0be770-e04f-46a9-b6d9-4dde707ecd03",
   "metadata": {},
   "outputs": [],
   "source": [
    "https://books.toscrape.com/catalogue/a-light-in-the-attic_1000/index.html\n",
    "https://books.toscrape.com/catalogue/tipping-the-velvet_999/index.html"
   ]
  },
  {
   "cell_type": "code",
   "execution_count": null,
   "id": "acd21523-e0ba-4cf3-a4a2-e2926d015554",
   "metadata": {},
   "outputs": [],
   "source": [
    "f\"https://books.toscrape.com/catalogue/{book}_{count}\""
   ]
  },
  {
   "cell_type": "code",
   "execution_count": 297,
   "id": "1ac20cfb-929f-46db-a503-a1c4eccdab46",
   "metadata": {},
   "outputs": [
    {
     "data": {
      "text/plain": [
       "['a-light-in-the-attic',\n",
       " 'tipping-the-velvet',\n",
       " 'soumission',\n",
       " 'sharp-objects',\n",
       " 'sapiens-a-brief-history-of-humankind',\n",
       " 'the-requiem-red',\n",
       " 'the-dirty-little-secrets-of-getting-your-dream-job',\n",
       " 'the-coming-woman-a-novel-based-on-the-life-of-the-infamous-feminist-victoria-woodhull',\n",
       " 'the-boys-in-the-boat-nine-americans-and-their-epic-quest-for-gold-at-the-1936-berlin-olympics',\n",
       " 'the-black-maria',\n",
       " 'starving-hearts-triangular-trade-trilogy-1',\n",
       " \"shakespeare's-sonnets\",\n",
       " 'set-me-free',\n",
       " \"scott-pilgrim's-precious-little-life-scott-pilgrim-1\",\n",
       " 'rip-it-up-and-start-again',\n",
       " 'our-band-could-be-your-life-scenes-from-the-american-indie-underground-1981-1991',\n",
       " 'olio',\n",
       " 'mesaerion-the-best-science-fiction-stories-1800-1849',\n",
       " 'libertarianism-for-beginners',\n",
       " \"it's-only-the-himalayas\"]"
      ]
     },
     "execution_count": 297,
     "metadata": {},
     "output_type": "execute_result"
    }
   ],
   "source": [
    "clean_titles"
   ]
  },
  {
   "cell_type": "code",
   "execution_count": 301,
   "id": "ad20e7b9-6cba-46e5-9313-51906de72613",
   "metadata": {},
   "outputs": [],
   "source": [
    "count = 1000\n",
    "genre_list = []\n",
    "desc_list = []\n",
    "upc_list = []\n",
    "\n",
    "for book in clean_titles:\n",
    "    url = f\"https://books.toscrape.com/catalogue/{book}_{count}\"\n",
    "    response = requests.get(url)\n",
    "    soup = BeautifulSoup(response.content)\n",
    "    # upc number\n",
    "    upc = soup.find_all(\"td\")\n",
    "    num_upc = [num.get_text() for num in upc][0]\n",
    "    upc_list.append(num_upc)\n",
    "    # genre\n",
    "    genre = soup.find_all(\"a\")\n",
    "    genre_type = [gen.get_text() for gen in genre][3]\n",
    "    genre_list.append(genre_type)\n",
    "    # description\n",
    "    description = soup.find_all(\"p\")\n",
    "    descr_txt = [txt.get_text() for txt in description][3]\n",
    "    desc_list.append(descr_txt)\n",
    "    # count -1 because the url changes with every book, and the number appearing in the link is always one less\n",
    "    count -=1"
   ]
  },
  {
   "cell_type": "code",
   "execution_count": 305,
   "id": "3cf7e6f7-a9c6-4d28-8c09-6783696174c0",
   "metadata": {},
   "outputs": [
    {
     "data": {
      "text/plain": [
       "20"
      ]
     },
     "execution_count": 305,
     "metadata": {},
     "output_type": "execute_result"
    }
   ],
   "source": [
    "len(genre_list)"
   ]
  },
  {
   "cell_type": "code",
   "execution_count": 307,
   "id": "5956cf9f-4347-45f0-9c46-115bb7d9c6ab",
   "metadata": {},
   "outputs": [
    {
     "data": {
      "text/plain": [
       "20"
      ]
     },
     "execution_count": 307,
     "metadata": {},
     "output_type": "execute_result"
    }
   ],
   "source": [
    "len(upc_list)"
   ]
  },
  {
   "cell_type": "code",
   "execution_count": 309,
   "id": "3055b3c2-d1ad-4efb-89ef-9af74a489f7a",
   "metadata": {},
   "outputs": [
    {
     "data": {
      "text/plain": [
       "20"
      ]
     },
     "execution_count": 309,
     "metadata": {},
     "output_type": "execute_result"
    }
   ],
   "source": [
    "len(desc_list)"
   ]
  },
  {
   "cell_type": "code",
   "execution_count": null,
   "id": "0aa2b0ed-2aee-41e4-a6c0-e5c8eea469ae",
   "metadata": {},
   "outputs": [],
   "source": []
  },
  {
   "cell_type": "code",
   "execution_count": 267,
   "id": "d1d9a813-f766-43ff-a13c-a67e3604383b",
   "metadata": {},
   "outputs": [],
   "source": [
    "url2 = \"https://books.toscrape.com/catalogue/mesaerion-the-best-science-fiction-stories-1800-1849_983/index.html\"\n",
    "response = requests.get(url2)\n",
    "soup = BeautifulSoup(response.content)"
   ]
  },
  {
   "cell_type": "code",
   "execution_count": 273,
   "id": "84efba7e-91f5-4775-b3dd-1716c5f9f0ab",
   "metadata": {},
   "outputs": [
    {
     "data": {
      "text/plain": [
       "'e30f54cea9b38190'"
      ]
     },
     "execution_count": 273,
     "metadata": {},
     "output_type": "execute_result"
    }
   ],
   "source": [
    "upc = soup.find_all(\"td\")\n",
    "num_upc = [num.get_text() for num in upc][0]\n",
    "num_upc"
   ]
  },
  {
   "cell_type": "code",
   "execution_count": 285,
   "id": "1d8217da-1e6b-4221-9fac-bd34124871a0",
   "metadata": {},
   "outputs": [
    {
     "data": {
      "text/plain": [
       "'Science Fiction'"
      ]
     },
     "execution_count": 285,
     "metadata": {},
     "output_type": "execute_result"
    }
   ],
   "source": [
    "genre = soup.find_all(\"a\")\n",
    "genre_type = [gen.get_text() for gen in genre][3]\n",
    "genre_type"
   ]
  },
  {
   "cell_type": "code",
   "execution_count": 293,
   "id": "b0bf4bc9-3a4b-4b4f-9e7d-181e949bd16b",
   "metadata": {},
   "outputs": [
    {
     "data": {
      "text/plain": [
       "'Andrew Barger, award-winning author and engineer, has extensively researched forgotten journals and magazines of the early 19th century to locate groundbreaking science fiction short stories in the English language. In doing so, he found what is possibly the first science fiction story by a female (and it is not from Mary Shelley). Andrew located the first steampunk short Andrew Barger, award-winning author and engineer, has extensively researched forgotten journals and magazines of the early 19th century to locate groundbreaking science fiction short stories in the English language. In doing so, he found what is possibly the first science fiction story by a female (and it is not from Mary Shelley). Andrew located the first steampunk short story, which has not been republished since 1844. There is the first voyage to the moon in a balloon, republished for the first time since 1820 that further tells of a darkness machine and a lunarian named Zuloc. Other sci-stories include the first robotic insect and an electricity gun. Once again, Andrew has searched old texts to find the very best science fiction stories from the period when the genre automated to life, some of the stories are published for the first time in nearly 200 years. Read these fantastic stories today!OUR OWN COUNTRY So mechanical has the age become, that men seriously talk of flying machines, to go by steam, --not your air-balloons, but real Daedalian wings, made of wood and joints, nailed to your shoulder, --not wings of feathers and wax like the wings of Icarus, who fell into the Cretan sea, but real, solid, substantial, rock-maple wings with wrought-iron hinges, and huge concavities, to propel us through the air. Knickerbocker Magazine, May 18 ...more'"
      ]
     },
     "execution_count": 293,
     "metadata": {},
     "output_type": "execute_result"
    }
   ],
   "source": [
    "description = soup.find_all(\"p\")\n",
    "descr_txt = [txt.get_text() for txt in description][3]\n",
    "descr_txt"
   ]
  },
  {
   "cell_type": "code",
   "execution_count": null,
   "id": "5b579f6f-3c6f-4124-82fd-995d70333f35",
   "metadata": {},
   "outputs": [],
   "source": []
  },
  {
   "cell_type": "code",
   "execution_count": null,
   "id": "2a724719-d488-4fe3-ab80-18a2e3e56cac",
   "metadata": {},
   "outputs": [],
   "source": []
  },
  {
   "cell_type": "code",
   "execution_count": null,
   "id": "dad1ec8e-f5b7-43d6-9c9c-b955f4ee5d49",
   "metadata": {},
   "outputs": [],
   "source": []
  },
  {
   "cell_type": "code",
   "execution_count": null,
   "id": "d87d06e4-e90f-47b4-9cf6-c4241e3d8eff",
   "metadata": {},
   "outputs": [],
   "source": []
  },
  {
   "cell_type": "markdown",
   "id": "7dd74190-cc0a-498f-83e6-1bb94fcb6f7b",
   "metadata": {},
   "source": [
    "### Task: A function named scrape_books that takes two parameters: min_rating and max_price. \n",
    "The function should scrape book data from the \"Books to Scrape\" website and return a pandas DataFrame with the following columns:\n",
    "\n",
    "A function named scrape_books that takes two parameters: min_rating and max_price. The function should return a DataFrame with the following columns:\n",
    "* UPC: The Universal Product Code (UPC) of the book.\n",
    "* Title: The title of the book.\n",
    "* Price (£): The price of the book in pounds.\n",
    "* Rating: The rating of the book (1-5 stars).\n",
    "* Genre: The genre of the book.\n",
    "* Availability: Whether the book is in stock or not.\n",
    "* Description: A brief description or product description of the book (if available).\n",
    "\n",
    "You will execute this script to scrape data for books with a minimum rating of 4.0 and above and a maximum price of £20."
   ]
  },
  {
   "cell_type": "code",
   "execution_count": null,
   "id": "8e0052ec-ad37-4ac2-aa65-e067252fdc35",
   "metadata": {},
   "outputs": [],
   "source": []
  },
  {
   "cell_type": "code",
   "execution_count": null,
   "id": "bbe0f360-4677-4cfe-8259-e108bdb14fc3",
   "metadata": {},
   "outputs": [],
   "source": []
  },
  {
   "cell_type": "code",
   "execution_count": null,
   "id": "62489726-570d-4c99-8f15-8beb7cb6bf3a",
   "metadata": {},
   "outputs": [],
   "source": []
  },
  {
   "cell_type": "code",
   "execution_count": null,
   "id": "a98e5f5d-ade9-4ae9-8060-a17f6e6b769e",
   "metadata": {},
   "outputs": [],
   "source": [
    "# apply a lower function to the titles, replace the : for nothing, unite the strings with (-). \n",
    "\n"
   ]
  }
 ],
 "metadata": {
  "colab": {
   "provenance": []
  },
  "kernelspec": {
   "display_name": "Python [conda env:base] *",
   "language": "python",
   "name": "conda-base-py"
  },
  "language_info": {
   "codemirror_mode": {
    "name": "ipython",
    "version": 3
   },
   "file_extension": ".py",
   "mimetype": "text/x-python",
   "name": "python",
   "nbconvert_exporter": "python",
   "pygments_lexer": "ipython3",
   "version": "3.12.7"
  }
 },
 "nbformat": 4,
 "nbformat_minor": 5
}
